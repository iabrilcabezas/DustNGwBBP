{
 "cells": [
  {
   "cell_type": "code",
   "execution_count": 1,
   "id": "f8601573-d75c-4253-a707-2dace1d6e27e",
   "metadata": {},
   "outputs": [],
   "source": [
    "import os \n",
    "import sys"
   ]
  },
  {
   "cell_type": "code",
   "execution_count": 2,
   "id": "54b26893-8aaf-403c-b535-26610d194c4e",
   "metadata": {},
   "outputs": [],
   "source": [
    "sys.path.append('/global/common/software/act/iabril/python/DustNGwBBP/')\n",
    "os.chdir('/global/common/software/act/iabril/python/DustNGwBBP/')"
   ]
  },
  {
   "cell_type": "code",
   "execution_count": 1,
   "id": "16cbf72b-77bb-4169-ba8f-a49eff97e84a",
   "metadata": {},
   "outputs": [],
   "source": [
    "import numpy as np\n",
    "from scipy.optimize import curve_fit\n",
    "import matplotlib.pyplot as plt\n",
    "from matplotlib import rcParams\n",
    "import matplotlib.colors as colors\n",
    "from astropy.io import fits\n",
    "import healpy as hp\n",
    "import sacc\n",
    "import pymaster as nmt\n",
    "from scipy import stats\n",
    "import pandas as pd\n",
    "\n",
    "rcParams['font.size']=20\n",
    "rcParams['text.usetex'] = True\n",
    "rcParams['axes.linewidth']=1.5\n",
    "rcParams['xtick.major.width']=1.5\n",
    "rcParams['xtick.minor.width']=1.5\n",
    "rcParams['ytick.major.width']=1.5\n",
    "rcParams['ytick.minor.width']=1.5"
   ]
  },
  {
   "cell_type": "code",
   "execution_count": 4,
   "id": "ac6e3ea2-2895-4bb1-815d-7901c70756b7",
   "metadata": {},
   "outputs": [
    {
     "name": "stdout",
     "output_type": "stream",
     "text": [
      "so_256_w2_p353_30_9_30_soflat_5.0_0.4_10_B_dcs\n",
      "/global/cfs/cdirs/act/data/iabril/DustFilaments/sims_230306/analysis_230414/\n"
     ]
    }
   ],
   "source": [
    "from utils.sed import get_convolved_seds, get_band_names\n",
    "from utils.bandpowers import get_ell_arrays\n",
    "from dustngwbbp.compute_cl import get_windows, import_bandpasses\n",
    "import utils.noise_calc as nc\n",
    "from utils.params import LMIN, DELL, NBANDS, POLARIZATION_cov\n",
    "from pte.sfid_class_pte import SfClass\n",
    "\n",
    "band_names = get_band_names()\n",
    "LMAX, LARR_ALL, LBANDS, LEFF = get_ell_arrays(LMIN, DELL, NBANDS)\n",
    "\n",
    "nfreqs = len(band_names)\n",
    "nmodes = len(POLARIZATION_cov)\n",
    "nmaps = nfreqs * nmodes\n",
    "ncross = (nmaps * (nmaps + 1)) // 2\n",
    "\n",
    "indices_tr = np.triu_indices(nfreqs)\n",
    "ncombs = len(indices_tr[0])\n",
    "assert ncross == ncombs\n",
    "\n",
    "NCOMP = 3\n",
    "TYPE_COV = 'dfwt'\n",
    "WEIGHT = 'Cl'"
   ]
  },
  {
   "attachments": {},
   "cell_type": "markdown",
   "id": "59645c87-e069-4ab4-9641-54dcfd6b39ed",
   "metadata": {},
   "source": [
    "# Compute Q matrix"
   ]
  },
  {
   "cell_type": "code",
   "execution_count": 6,
   "id": "28e021af-49ef-4a03-9710-54c62bc191c1",
   "metadata": {},
   "outputs": [],
   "source": [
    "counter = np.arange(len(indices_tr[0]))\n",
    "dicttr = {}\n",
    "for i, counter_val in enumerate(counter):\n",
    "    dicttr[(indices_tr[0][i], indices_tr[1][i])] = counter_val"
   ]
  },
  {
   "cell_type": "code",
   "execution_count": 7,
   "id": "e8ab35eb-1510-4994-a9c8-d6327bfbde0b",
   "metadata": {},
   "outputs": [],
   "source": [
    "fsky = nc.get_fsky()\n",
    "bpss = import_bandpasses()\n",
    "S = get_convolved_seds(band_names, bpss)"
   ]
  },
  {
   "cell_type": "code",
   "execution_count": 8,
   "id": "b8a3f211-b903-40f2-b8fa-d10dfbcfce60",
   "metadata": {},
   "outputs": [
    {
     "data": {
      "text/plain": [
       "(3, 6)"
      ]
     },
     "execution_count": 8,
     "metadata": {},
     "output_type": "execute_result"
    }
   ],
   "source": [
    "S.shape"
   ]
  },
  {
   "cell_type": "code",
   "execution_count": 9,
   "id": "f7b2ac09-6613-4705-b0c5-0fd8072d0817",
   "metadata": {},
   "outputs": [],
   "source": [
    "sens=2\n",
    "knee=1\n",
    "ylf=1\n",
    "\n",
    "nell=np.zeros([nfreqs,LMAX+1])\n",
    "_,nell[:,2:],_=nc.Simons_Observatory_V3_SA_noise(sens,knee,ylf,fsky,LMAX+1,1, atm_noise = True)\n",
    "\n",
    "windows = get_windows(WEIGHT)\n",
    "n_bpw=np.sum(nell[:,None,:]*windows[None,:,:],axis=2)\n",
    "noise_array = n_bpw"
   ]
  },
  {
   "cell_type": "code",
   "execution_count": 11,
   "id": "0f6912f6-bdcf-415d-8e4b-aea5ad31c5b1",
   "metadata": {},
   "outputs": [],
   "source": [
    "invnoise_ell = np.zeros((NBANDS, nfreqs, nfreqs)) + np.nan\n",
    "\n",
    "for i in range(NBANDS):\n",
    "    invnoise_ell[i,:,:]  = np.linalg.inv( np.diag( noise_array[:,i] ) )  # nfreq x nfreq"
   ]
  },
  {
   "cell_type": "code",
   "execution_count": 12,
   "id": "f5c49b3b-e251-4370-b80a-262b708cf72e",
   "metadata": {},
   "outputs": [],
   "source": [
    "A_ell = np.zeros(( NBANDS, NCOMP, NCOMP)) + np.nan\n",
    "B_ell = np.zeros(( NBANDS, NCOMP, nfreqs)) + np.nan\n",
    "for i in range(NBANDS):\n",
    "    A_ell[i,:,:] = np.matmul( S, np.matmul(invnoise_ell[i], S.transpose()) )\n",
    "    B_ell[i,:,:] = np.matmul( S, invnoise_ell[i] )"
   ]
  },
  {
   "cell_type": "code",
   "execution_count": 13,
   "id": "70233fb4-735c-41b4-8461-3cb412117bb1",
   "metadata": {},
   "outputs": [],
   "source": [
    "Q_ell = np.zeros(( NBANDS, nfreqs )) + np.nan\n",
    "for i in range(NBANDS):\n",
    "    for j in range(nfreqs):\n",
    "        Q_ell[i,j] = sum(A_ell[i,0,:] * B_ell[i,:,j])"
   ]
  },
  {
   "cell_type": "code",
   "execution_count": 14,
   "id": "f043e6b6-c473-43ba-862e-8dff93fbe96c",
   "metadata": {},
   "outputs": [],
   "source": [
    "save_path = '/global/cfs/cdirs/act/data/iabril/BBPower/230525_sample/' #03_pte/'\n",
    "np.savetxt(save_path + 'Qmatrix_clean.txt', Q_ell)"
   ]
  },
  {
   "attachments": {},
   "cell_type": "markdown",
   "id": "548d4200-4452-4959-aa39-a706d6e73e27",
   "metadata": {},
   "source": [
    "# Clean covs"
   ]
  },
  {
   "cell_type": "code",
   "execution_count": 15,
   "id": "d087dd90-cffb-4d42-b69a-d2e3374a6586",
   "metadata": {},
   "outputs": [],
   "source": [
    "Q_ell = np.loadtxt(save_path + 'Qmatrix_clean.txt')"
   ]
  },
  {
   "cell_type": "code",
   "execution_count": 16,
   "id": "e1f7d64b-f69a-46f7-8149-3de5d09ce200",
   "metadata": {},
   "outputs": [],
   "source": [
    "covs_path = save_path + 'sims/0/'\n",
    "covs_name = 'so_256_w2_p353_30_9_30_soflat_5.0_0.4_10_B_dcs_Cl_' # w_tot.fits"
   ]
  },
  {
   "cell_type": "code",
   "execution_count": 17,
   "id": "ec11e90e-3154-46e9-a97c-9e7e0753273e",
   "metadata": {},
   "outputs": [],
   "source": [
    "Cov_g = sacc.Sacc.load_fits(covs_path + 'w/' + covs_name + 'w_tot.fits').covariance.covmat\n",
    "Cov_ng = sacc.Sacc.load_fits(covs_path + 'dfwt/' + covs_name + 'dfwt_tot.fits').covariance.covmat"
   ]
  },
  {
   "cell_type": "code",
   "execution_count": 18,
   "id": "ea5988ef-64e7-454b-80f9-3b781370ef31",
   "metadata": {},
   "outputs": [],
   "source": [
    "Cov_g  = Cov_g.reshape([ncross, NBANDS, ncross, NBANDS])\n",
    "Cov_ng = Cov_ng.reshape([ncross, NBANDS, ncross, NBANDS])"
   ]
  },
  {
   "cell_type": "code",
   "execution_count": 19,
   "id": "7307012a-8f26-459f-9276-e14e8c4f9ce7",
   "metadata": {},
   "outputs": [],
   "source": [
    "cov_cleaned_g = np.zeros((NBANDS, NBANDS))\n",
    "cov_cleaned_ng = np.zeros((NBANDS, NBANDS))\n",
    "\n",
    "for l1 in range(NBANDS): \n",
    "    for l2 in range(NBANDS):\n",
    "        sumag = 0\n",
    "        sumang = 0\n",
    "        for n1 in range(nfreqs):\n",
    "            for n2 in range(nfreqs):\n",
    "                cros1 = (n1,n2)\n",
    "                cros1_val = dicttr[tuple(sorted(cros1))]\n",
    "                for n3 in range(nfreqs):\n",
    "                    for n4 in range(nfreqs):\n",
    "                        cros2 = (n3,n4)\n",
    "                        cros2_val = dicttr[tuple(sorted(cros2))]\n",
    "                        qval = (Q_ell[l1, n1] * Q_ell[l1, n2] * Q_ell[l2, n3] * Q_ell[l2, n4]) \n",
    "                        sumag  += qval * Cov_g[ cros1_val, l1, cros2_val, l2]\n",
    "                        sumang += qval * Cov_ng[cros1_val, l1, cros2_val, l2]\n",
    "        cov_cleaned_g[l1, l2] = sumag\n",
    "        cov_cleaned_ng[l1,l2] = sumang"
   ]
  },
  {
   "cell_type": "code",
   "execution_count": 20,
   "id": "d48559ab-b0c4-4845-a2ba-4c36d7f88092",
   "metadata": {},
   "outputs": [],
   "source": [
    "np.savetxt(save_path + 'Cov_g_clean.txt', cov_cleaned_g)\n",
    "np.savetxt(save_path + 'Cov_ng_clean.txt', cov_cleaned_ng)"
   ]
  },
  {
   "attachments": {},
   "cell_type": "markdown",
   "id": "af54b064-d221-41fb-9b6f-f8698450c109",
   "metadata": {},
   "source": [
    "# Clean best fit and sampled cells"
   ]
  },
  {
   "cell_type": "code",
   "execution_count": 21,
   "id": "fc11bbc5-ff88-4216-bce7-31c7f355ca70",
   "metadata": {},
   "outputs": [],
   "source": [
    "def clean_cells(Q, input_path, output_path):\n",
    "    \n",
    "    cell_sampled = sacc.Sacc.load_fits(input_path).mean\n",
    "    cell_sampled = cell_sampled.reshape((ncross, NBANDS))\n",
    "    \n",
    "    # reshape into cell(nu, nuprime) shape\n",
    "    cell_nunup_ell = np.zeros((NBANDS, nfreqs, nfreqs))\n",
    "    for i in range(NBANDS):\n",
    "        # https://stackoverflow.com/questions/17527693/transform-the-upper-lower-triangular-part-of-a-symmetric-matrix-2d-array-into\n",
    "        X = np.zeros((nfreqs, nfreqs))\n",
    "        X[np.triu_indices(X.shape[0], k = 0)] = cell_sampled[:,i]\n",
    "        X = X + X.T - np.diag(np.diag(X))\n",
    "        cell_nunup_ell[i] = X\n",
    "        \n",
    "    # clean:\n",
    "    clean_cell = np.zeros(NBANDS) + np.nan\n",
    "    for i in range(NBANDS):\n",
    "        clean_cell[i] = np.matmul( (Q[i,:]).transpose(), np.matmul(cell_nunup_ell[i], Q[i,:]) )\n",
    "    \n",
    "    np.savetxt(output_path, clean_cell)"
   ]
  },
  {
   "cell_type": "code",
   "execution_count": 22,
   "id": "59f57e5c-1b7f-44a1-9c23-3a926bf12f85",
   "metadata": {},
   "outputs": [],
   "source": [
    "# check sampled same w and dfwt\n",
    "path = save_path + f'sims/0/'\n",
    "path1 = covs_path + 'w/' + covs_name + 'w_tot.fits'\n",
    "path2 = covs_path + 'dfwt/' + covs_name + 'dfwt_tot.fits'"
   ]
  },
  {
   "cell_type": "code",
   "execution_count": 23,
   "id": "245a6a2f-67d8-4dce-af60-bd8d22b71d44",
   "metadata": {},
   "outputs": [],
   "source": [
    "a1 = sacc.Sacc.load_fits(path1)\n",
    "a2 = sacc.Sacc.load_fits(path2)"
   ]
  },
  {
   "cell_type": "code",
   "execution_count": 24,
   "id": "4656ef86-370d-4c8c-b286-672439f39429",
   "metadata": {},
   "outputs": [
    {
     "data": {
      "text/plain": [
       "True"
      ]
     },
     "execution_count": 24,
     "metadata": {},
     "output_type": "execute_result"
    }
   ],
   "source": [
    "np.all(a1.mean == a2.mean)"
   ]
  },
  {
   "cell_type": "code",
   "execution_count": 25,
   "id": "dd024d44-1e88-45c2-8e92-a158583834a5",
   "metadata": {},
   "outputs": [],
   "source": [
    "nsims = 6400"
   ]
  },
  {
   "cell_type": "code",
   "execution_count": 26,
   "id": "df6eb147-af1d-46c2-bbe6-8b3bca89585f",
   "metadata": {},
   "outputs": [
    {
     "name": "stdout",
     "output_type": "stream",
     "text": [
      "0\n",
      "250\n",
      "500\n",
      "750\n",
      "1000\n",
      "1250\n",
      "1500\n",
      "1750\n",
      "2000\n",
      "2250\n",
      "2500\n",
      "2750\n",
      "3000\n",
      "3250\n",
      "3500\n",
      "3750\n",
      "4000\n",
      "4250\n",
      "4500\n",
      "4750\n",
      "5000\n",
      "5250\n",
      "5500\n",
      "5750\n",
      "6000\n",
      "6250\n"
     ]
    }
   ],
   "source": [
    "# only clean w/ sampled\n",
    "for i in range(nsims):\n",
    "\n",
    "    if i%250 ==0:\n",
    "        print(i)\n",
    "\n",
    "    covs_path = save_path + f'sims/{i}/'\n",
    "    sample_cell_path = covs_path + 'w/' + covs_name + 'w_tot.fits'\n",
    "    \n",
    "    clean_cells(Q_ell, sample_cell_path, covs_path + 'clean_sample_cell.txt')\n",
    "    "
   ]
  },
  {
   "cell_type": "code",
   "execution_count": 28,
   "id": "2fa16b52-7d2a-4f4a-9966-c64664110146",
   "metadata": {},
   "outputs": [
    {
     "name": "stdout",
     "output_type": "stream",
     "text": [
      "0\n",
      "250\n",
      "500\n",
      "750\n",
      "1000\n",
      "1250\n",
      "1500\n",
      "1750\n",
      "2000\n",
      "2250\n",
      "2500\n",
      "2750\n",
      "3000\n",
      "3250\n",
      "3500\n",
      "3750\n",
      "4000\n",
      "4250\n",
      "4500\n",
      "4750\n",
      "5000\n",
      "5250\n",
      "5500\n",
      "5750\n",
      "6000\n",
      "6250\n"
     ]
    }
   ],
   "source": [
    "# same for cells_model:\n",
    "for i in range(nsims):\n",
    "\n",
    "\n",
    "    if i%250 ==0:\n",
    "        print(i)\n",
    "\n",
    "    for wt in ['w', 'dfwt']:\n",
    "        cells_path = save_path + f'sims/{i}/{wt}/'\n",
    "        \n",
    "        clean_cells(Q_ell, cells_path + 'cells_model.fits', cells_path + 'clean_cellbestfit.txt')"
   ]
  },
  {
   "cell_type": "code",
   "execution_count": 71,
   "id": "d9a9893e-4fda-44d1-b19f-3178ce46a87a",
   "metadata": {},
   "outputs": [],
   "source": [
    "# proof from clean_cmb_david.ipynb\n",
    "# celss_path = '/global/cfs/cdirs/act/data/iabril/BBPower/230503_pte/1/dfwt/cells_model.fits'\n",
    "# a = sacc.Sacc.load_fits(celss_path)\n",
    "# mean = a.mean\n",
    "# array_mean = mean.reshape((ncross, NBANDS))#, order = 'F')\n",
    "# nfreqs = 6\n",
    "# cell_nunup_ell = np.zeros((NBANDS, nfreqs, nfreqs))\n",
    "# for i in range(NBANDS):\n",
    "#     # https://stackoverflow.com/questions/17527693/transform-the-upper-lower-triangular-part-of-a-symmetric-matrix-2d-array-into\n",
    "#     X = np.zeros((nfreqs, nfreqs))\n",
    "#     X[np.triu_indices(X.shape[0], k = 0)] = array_mean[:,i]\n",
    "#     X = X + X.T - np.diag(np.diag(X))\n",
    "#     cell_nunup_ell[i] = X\n",
    "# clean_cell = np.zeros(NBANDS) + np.nan\n",
    "# for i in range(NBANDS):\n",
    "#     clean_cell[i] = np.matmul( (Q_ell[i,:]).transpose(), np.matmul(cell_nunup_ell[i], Q_ell[i,:]) )"
   ]
  },
  {
   "attachments": {},
   "cell_type": "markdown",
   "id": "007da26b-6c1c-41a8-ba88-e4a5e3125ee3",
   "metadata": {},
   "source": [
    "# Compute chi2"
   ]
  },
  {
   "cell_type": "code",
   "execution_count": 29,
   "id": "893887f0-fe6a-4769-8d68-d11c007408c6",
   "metadata": {},
   "outputs": [],
   "source": [
    "cov_g = np.loadtxt(save_path + 'Cov_g_clean.txt')\n",
    "invcov_g = np.linalg.solve(cov_g, np.identity(len(cov_g)))\n",
    "cov_ng = np.loadtxt(save_path + 'Cov_ng_clean.txt')\n",
    "invcov_ng = np.linalg.solve(cov_ng, np.identity(len(cov_ng)))\n",
    "\n",
    "invcovs = [invcov_g, invcov_ng]\n",
    "\n",
    "chi2_array = np.zeros((2, nsims))\n",
    "\n",
    "for i in range(nsims):\n",
    "    \n",
    "    path = save_path + f'sims/{i}/'\n",
    "\n",
    "    for j, wt in enumerate(['w', 'dfwt']):\n",
    "        \n",
    "        cdata  =  np.loadtxt(path + 'clean_sample_cell.txt')\n",
    "        cmodel =  np.loadtxt(path + wt + '/clean_cellbestfit.txt')\n",
    "        \n",
    "        deltax = cdata - cmodel\n",
    "        chi2_array[j, i] = np.linalg.multi_dot([deltax, invcovs[j], deltax])\n",
    "        \n",
    "        "
   ]
  },
  {
   "cell_type": "code",
   "execution_count": 30,
   "id": "3e8c1e5a-a4e1-486c-9171-908890516c95",
   "metadata": {},
   "outputs": [],
   "source": [
    "pval = stats.chi2.sf(chi2_array, df = NBANDS)"
   ]
  },
  {
   "cell_type": "code",
   "execution_count": 31,
   "id": "c2f4e77e-e87c-43fa-95f9-81e2ea9b3c21",
   "metadata": {},
   "outputs": [],
   "source": [
    "# save if it takes loads of time:\n",
    "np.savetxt(save_path + f'chi2_array_g_{nsims}.txt', chi2_array[0])\n",
    "np.savetxt(save_path + f'chi2_array_ng_{nsims}.txt', chi2_array[1])\n"
   ]
  },
  {
   "cell_type": "code",
   "execution_count": 32,
   "id": "81fbc5dd",
   "metadata": {},
   "outputs": [],
   "source": [
    "# save if it takes loads of time:\n",
    "np.savetxt(save_path + f'pval_array_g_{nsims}.txt', pval[0])\n",
    "np.savetxt(save_path + f'pval_array_ng_{nsims}.txt', pval[1])"
   ]
  },
  {
   "cell_type": "code",
   "execution_count": 2,
   "id": "ec54207c",
   "metadata": {},
   "outputs": [],
   "source": [
    "save_path = '/global/cfs/cdirs/act/data/iabril/BBPower/230525_sample/' #03_pte/'\n",
    "nsims = 6400"
   ]
  },
  {
   "cell_type": "code",
   "execution_count": 4,
   "id": "499aaac9",
   "metadata": {},
   "outputs": [
    {
     "data": {
      "image/png": "[encoded data removed]",
      "text/plain": [
       "<Figure size 1280x960 with 1 Axes>"
      ]
     },
     "metadata": {},
     "output_type": "display_data"
    }
   ],
   "source": [
    "fig, axs = plt.subplots(dpi = 200)\n",
    "\n",
    "pval_g = pd.read_csv(save_path + f'pval_array_g_{nsims}.txt', names = [r'$\\Sigma_{\\rm G}$'])\n",
    "pval_g.plot.density(ind = np.linspace(0,1, num = 100), ax = axs, label = 'g', lw = 3, color = 'crimson')\n",
    "\n",
    "pval_ng = pd.read_csv(save_path + f'pval_array_ng_{nsims}.txt', names = [r'$\\Sigma_{\\rm NG}$'])\n",
    "pval_ng.plot.density(ind = np.linspace(0,1, num = 100), ax = axs, label = 'g', lw = 3, linestyle = 'dashed', color = 'cornflowerblue')\n",
    "\n",
    "\n",
    "axs.set_ylabel(r'$\\rm KDE$')\n",
    "axs.set_ylim(0.4, 1.2)\n",
    "\n",
    "axs.set_xlabel(r'$\\rm PTE$')\n",
    "axs.legend(prop = {'size':20})\n",
    "    \n",
    "# plt.savefig('/global/common/software/act/iabril/jupyter/Paper/Figures/cleanptes.pdf' , bbox_inches = 'tight')\n",
    "plt.show()"
   ]
  },
  {
   "cell_type": "code",
   "execution_count": null,
   "id": "6bd57033",
   "metadata": {},
   "outputs": [],
   "source": []
  }
 ],
 "metadata": {
  "kernelspec": {
   "display_name": "Python 3",
   "language": "python",
   "name": "python3"
  },
  "language_info": {
   "codemirror_mode": {
    "name": "ipython",
    "version": 3
   },
   "file_extension": ".py",
   "mimetype": "text/x-python",
   "name": "python",
   "nbconvert_exporter": "python",
   "pygments_lexer": "ipython3",
   "version": "3.10.8"
  }
 },
 "nbformat": 4,
 "nbformat_minor": 5
}
